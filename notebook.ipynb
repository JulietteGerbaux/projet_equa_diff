{
 "nbformat": 4,
 "nbformat_minor": 2,
 "metadata": {
  "language_info": {
   "name": "python",
   "codemirror_mode": {
    "name": "ipython",
    "version": 3
   },
   "version": "3.7.3"
  },
  "orig_nbformat": 2,
  "file_extension": ".py",
  "mimetype": "text/x-python",
  "name": "python",
  "npconvert_exporter": "python",
  "pygments_lexer": "ipython3",
  "version": 3
 },
 "cells": [
  {
   "cell_type": "markdown",
   "metadata": {},
   "outputs": [],
   "source": [
    "# Choix du pas de temps"
   ]
  },
  {
   "cell_type": "markdown",
   "metadata": {},
   "outputs": [],
   "source": [
    "## Pas fixe"
   ]
  },
  {
   "cell_type": "markdown",
   "metadata": {},
   "outputs": [],
   "source": [
    "On commence par coder une fonction qui ressoud l'équation différentielle $\\dot{x} = f(x)$ avec le schéma d'Euler explicite.  "
   ]
  },
  {
   "cell_type": "code",
   "metadata": {},
   "outputs": [],
   "source": [
    "import numpy as np\n",
    "import matplotlib.pyplot as plt\n",
    "\n",
    "def solve_euler_explicit(f, x0, dt, n = 100):\n",
    "    t = np.linspace(0, dt*(n-1), n)\n",
    "    x = np.zeros(n)\n",
    "    x[0] = x0\n",
    "    for j in range(1, n):\n",
    "        x[j] = x[j-1] + dt*f(x[j-1])\n",
    "    return t, x"
   ]
  },
  {
   "cell_type": "markdown",
   "metadata": {},
   "outputs": [],
   "source": [
    "### Exemple avec $f : x \\mapsto x$"
   ]
  },
  {
   "cell_type": "code",
   "metadata": {},
   "outputs": [],
   "source": [
    "def exp_solver(solver, dt, tf = 5, x0 = 1):\n",
    "    for delta_t in dt :\n",
    "        t, x = solver(lambda x : x, x0, delta_t, int(tf//delta_t))\n",
    "        plt.plot(t, x, label = f'dt = {delta_t}')\n",
    "    plt.plot(t, [np.exp(i) for i in t], label = 'exp')\n",
    "    plt.legend()\n",
    "    plt.show()"
   ]
  },
  {
   "cell_type": "code",
   "metadata": {},
   "outputs": [],
   "source": [
    "exp_solver(solve_euler_explicit, [0.1, 0.01])"
   ]
  },
  {
   "cell_type": "code",
   "metadata": {},
   "outputs": [],
   "source": [
    "for dt in [0.1, 0.01, 0.001, 0.0001, 0.00001, 0.000001] :\n",
    "    t, x = solve_euler_explicit(lambda x : x, 1, dt, int(5//dt))\n",
    "    x_exp = [np.exp(i) for i in t]\n",
    "    dif = np.abs(x-x_exp)\n",
    "    print(f'Pour dt = {dt}, le max de la différence divisé par dt est d\\'environ {round(np.max(dif)/dt)}.')\n",
    "print('On en déduit que le schéma est bien convergeant à l\\'ordre 1 avec c_v = 400.')\n"
   ]
  },
  {
   "cell_type": "markdown",
   "metadata": {},
   "outputs": [],
   "source": [
    "On choisit maintenant un schéma à l'ordre 2 : la méthode de Heun."
   ]
  },
  {
   "cell_type": "code",
   "metadata": {},
   "outputs": [],
   "source": [
    "def heun(f, x0, dt, n = 100):\n",
    "    t = np.linspace(0, dt*(n-1), n)\n",
    "    x = np.zeros(n)\n",
    "    x[0] = x0\n",
    "    for j in range(1, n):\n",
    "        x[j] = x[j-1] + dt/2*( f(x[j-1]) + f(x[j-1] + dt*f(x[j-1])) )\n",
    "    return t, x"
   ]
  },
  {
   "cell_type": "code",
   "metadata": {},
   "outputs": [],
   "source": [
    "exp_solver(heun, [0.1, 0.01])"
   ]
  },
  {
   "cell_type": "markdown",
   "metadata": {},
   "outputs": [],
   "source": [
    "Ce schéma est plus précis que celui d'Euler explicite. "
   ]
  },
  {
   "cell_type": "code",
   "metadata": {},
   "outputs": [],
   "source": [
    "for dt in [0.1, 0.01, 0.001, 0.0001, 0.00001, 0.000001] :\n",
    "    t, x = heun(lambda x : x, 1, dt, int(5//dt))\n",
    "    x_exp = [np.exp(i) for i in t]\n",
    "    dif = np.abs(x-x_exp)\n",
    "    print(f'Pour dt = {dt}, le max de la différence divisé par dt est d\\'environ {round(np.max(dif)/(dt**2))}.')\n",
    "print('On en déduit que le schéma de Heun est convergeant à l\\'ordre 2 avec c_v = 125.')"
   ]
  },
  {
   "cell_type": "markdown",
   "metadata": {},
   "outputs": [],
   "source": [
    "## Adaptation du pas de temps"
   ]
  },
  {
   "cell_type": "markdown",
   "metadata": {},
   "outputs": [],
   "source": [
    "On a : \n",
    "\n",
    "$e^{j+1} = x^j + \\int_{t_j}^{t_{j+1}} f(s,x(s))ds - x^{j+1} = x^j + \\int_{t_j}^{t_{j+1}} f(s,x(s))ds - ( x^{j} + (t_{j+1} - t_{j})*f(t_j,x^j))$\n",
    "\n",
    "Soit : $e^{j+1} = \\int_{t_j}^{t_{j+1}} (f(s,x(s)) - f(t_j,x^j))ds$\n",
    "\n",
    "Or si $f$ est $C^1$, on a : $\\forall s \\in [ t_j , t_{j+1} ],  f(s,x(s)) = f(t_j,x(t_j)) + f'(t_j,x(t_j))\\times s + O(s^2)$\n",
    "\n",
    "Donc, on a : $e^{j+1} = \\int_{t_j}^{t_{j+1}} f'(t_j,x(t_j))\\times s + O(s^2)ds = f'(t_j,x(t_j))\\times \\frac{\\Delta t_j^2}{2} + O(\\Delta t_j^3)$\n",
    "\n",
    "Ainsi : $e^{j+1} = O(\\Delta t_j^2)$."
   ]
  },
  {
   "cell_type": "code",
   "metadata": {},
   "outputs": [],
   "source": []
  }
 ]
}